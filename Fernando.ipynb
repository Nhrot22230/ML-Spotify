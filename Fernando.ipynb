{
 "cells": [
  {
   "cell_type": "code",
   "execution_count": 50,
   "metadata": {},
   "outputs": [],
   "source": [
    "import pandas as pd\n",
    "import numpy as np\n",
    "import matplotlib.pyplot as plt\n",
    "from sklearn.preprocessing import LabelEncoder, StandardScaler\n",
    "from sklearn.model_selection import GridSearchCV, train_test_split\n",
    "from sklearn.metrics import confusion_matrix, classification_report, ConfusionMatrixDisplay\n",
    "from xgboost import XGBClassifier\n",
    "from sklearn.ensemble import RandomForestClassifier\n",
    "from sklearn.linear_model import LinearRegression"
   ]
  },
  {
   "cell_type": "code",
   "execution_count": 51,
   "metadata": {},
   "outputs": [],
   "source": [
    "def plot_confusion_matrix(model, X_test, y_test, labels):\n",
    "    y_pred = model.predict(X_test)\n",
    "    cm = confusion_matrix(y_test, y_pred, labels=range(len(labels)))\n",
    "    disp = ConfusionMatrixDisplay(confusion_matrix=cm, display_labels=labels)\n",
    "    disp.plot(xticks_rotation='vertical')\n",
    "    plt.tight_layout()\n",
    "    plt.show()\n",
    "\n",
    "def print_classification_report(model, X_test, y_test, labels):\n",
    "    y_pred = model.predict(X_test)\n",
    "    report = classification_report(y_test, y_pred, target_names=labels)\n",
    "    print(report)\n",
    "\n",
    "def imputar_valores(data, feature_to_impute, features_available):\n",
    "    not_null = data[data[feature_to_impute].notnull() & data[features_available].notnull().all(axis=1)]\n",
    "    X = not_null[features_available]\n",
    "    y = not_null[feature_to_impute]\n",
    "\n",
    "    model = LinearRegression()\n",
    "    model.fit(X, y)\n",
    "\n",
    "    null = data[data[feature_to_impute].isnull() & data[features_available].notnull().all(axis=1)]\n",
    "    X_null = null[features_available]\n",
    "    pred = model.predict(X_null)\n",
    "    data.loc[X_null.index, feature_to_impute] = pred\n",
    "    \n",
    "def grid_search_training(model, param_grid, X_train, y_train):\n",
    "    grid_search = GridSearchCV(estimator=model, param_grid=param_grid, cv=5, scoring='f1_weighted', verbose=1, n_jobs=-1)\n",
    "    grid_search.fit(X_train, y_train)\n",
    "    return grid_search.best_estimator_"
   ]
  },
  {
   "cell_type": "code",
   "execution_count": 52,
   "metadata": {},
   "outputs": [
    {
     "name": "stderr",
     "output_type": "stream",
     "text": [
      "/tmp/ipykernel_107913/615504638.py:7: FutureWarning: Downcasting object dtype arrays on .fillna, .ffill, .bfill is deprecated and will change in a future version. Call result.infer_objects(copy=False) instead. To opt-in to the future behavior, set `pd.set_option('future.no_silent_downcasting', True)`\n",
      "  train_data[\"Explicitud\"] = train_data[\"Explicitud\"].fillna(train_data[\"Explicitud\"].mode()[0])\n"
     ]
    }
   ],
   "source": [
    "\n",
    "train_data = pd.read_csv('train.csv')\n",
    "test_data = pd.read_csv('test_x.csv')\n",
    "\n",
    "imputar_valores(train_data, 'Energia', ['Acustica', 'Volumen'])\n",
    "imputar_valores(train_data, 'Volumen', ['Acustica', 'Energia'])\n",
    "\n",
    "train_data[\"Explicitud\"] = train_data[\"Explicitud\"].fillna(train_data[\"Explicitud\"].mode()[0])\n",
    "train_data[\"Palabrería\"] = train_data[\"Palabrería\"].fillna(train_data[\"Palabrería\"].mean())\n",
    "train_data[\"Tempo\"] = train_data[\"Tempo\"].fillna(train_data[\"Tempo\"].mean())\n",
    "label_encoder = LabelEncoder()\n",
    "train_data['Genero_del_track'] = label_encoder.fit_transform(train_data['Genero_del_track'])\n",
    "\n",
    "X = train_data.drop(columns=['ID_track', 'Album', 'Nombre_del_track', 'Artista'])\n",
    "y = train_data['Artista']\n",
    "\n",
    "scaler = StandardScaler()\n",
    "X_scaled = scaler.fit_transform(X)\n",
    "\n",
    "y_encoded = LabelEncoder().fit_transform(y)\n",
    "labels = np.unique(y)\n",
    "\n",
    "X_train, X_val, y_train, y_val = train_test_split(X_scaled, y_encoded, test_size=0.2, random_state=42, stratify=y_encoded)"
   ]
  },
  {
   "cell_type": "code",
   "execution_count": null,
   "metadata": {},
   "outputs": [
    {
     "name": "stdout",
     "output_type": "stream",
     "text": [
      "Fitting 5 folds for each of 24 candidates, totalling 120 fits\n"
     ]
    },
    {
     "name": "stderr",
     "output_type": "stream",
     "text": [
      "/home/nhrot/miniconda3/envs/IA_ML/lib/python3.12/site-packages/joblib/externals/loky/process_executor.py:752: UserWarning: A worker stopped while some jobs were given to the executor. This can be caused by a too short worker timeout or by a memory leak.\n",
      "  warnings.warn(\n"
     ]
    }
   ],
   "source": [
    "param_grid_xgb = {\n",
    "    'learning_rate': [0.01, 0.1, 0.2],\n",
    "    'n_estimators': [100, 200],\n",
    "    'max_depth': [4, 6],\n",
    "    'subsample': [0.6, 0.8],\n",
    "    'colsample_bytree': [0.6, 0.8]\n",
    "}\n",
    "\n",
    "param_grid_rf = {\n",
    "    'n_estimators': [400],\n",
    "}\n",
    "\n",
    "model_choice = 'rf'\n",
    "\n",
    "if model_choice == 'xgb':\n",
    "    model = XGBClassifier(use_label_encoder=False, eval_metric='mlogloss', random_state=42)\n",
    "    param_grid = param_grid_xgb\n",
    "elif model_choice == 'rf':\n",
    "    model = RandomForestClassifier(random_state=42)\n",
    "    param_grid = param_grid_rf\n",
    "\n",
    "best_model = grid_search_training(model, param_grid, X_train, y_train)\n"
   ]
  },
  {
   "cell_type": "code",
   "execution_count": 54,
   "metadata": {},
   "outputs": [
    {
     "name": "stderr",
     "output_type": "stream",
     "text": [
      "/tmp/ipykernel_107913/3600774144.py:1: FutureWarning: Downcasting object dtype arrays on .fillna, .ffill, .bfill is deprecated and will change in a future version. Call result.infer_objects(copy=False) instead. To opt-in to the future behavior, set `pd.set_option('future.no_silent_downcasting', True)`\n",
      "  test_data[\"Explicitud\"] = test_data[\"Explicitud\"].fillna(test_data[\"Explicitud\"].mode()[0])\n"
     ]
    },
    {
     "name": "stdout",
     "output_type": "stream",
     "text": [
      "Predicciones guardadas en 'submission.csv'\n"
     ]
    }
   ],
   "source": [
    "test_data[\"Explicitud\"] = test_data[\"Explicitud\"].fillna(test_data[\"Explicitud\"].mode()[0])\n",
    "test_data[\"Palabrería\"] = test_data[\"Palabrería\"].fillna(test_data[\"Palabrería\"].mean())\n",
    "test_data[\"Tempo\"] = test_data[\"Tempo\"].fillna(test_data[\"Tempo\"].mean())\n",
    "test_data['Genero_del_track'] = label_encoder.transform(test_data['Genero_del_track'])\n",
    "\n",
    "X_test = test_data.drop(columns=['ID_track', 'Album', 'Nombre_del_track'])\n",
    "X_test_scaled = scaler.transform(X_test)\n",
    "\n",
    "\n",
    "best_model.fit(X_scaled, y_encoded)\n",
    "test_predictions = best_model.predict(X_test_scaled)\n",
    "test_predictions_decoded = LabelEncoder().fit(y).inverse_transform(test_predictions)\n",
    "\n",
    "submission = pd.DataFrame({'Id': test_data['Id'], 'Artista': test_predictions_decoded})\n",
    "submission.to_csv('submission.csv', index=False)\n",
    "\n",
    "print(\"Predicciones guardadas en 'submission.csv'\")"
   ]
  }
 ],
 "metadata": {
  "kernelspec": {
   "display_name": "IA_ML",
   "language": "python",
   "name": "python3"
  },
  "language_info": {
   "codemirror_mode": {
    "name": "ipython",
    "version": 3
   },
   "file_extension": ".py",
   "mimetype": "text/x-python",
   "name": "python",
   "nbconvert_exporter": "python",
   "pygments_lexer": "ipython3",
   "version": "3.12.7"
  }
 },
 "nbformat": 4,
 "nbformat_minor": 2
}
